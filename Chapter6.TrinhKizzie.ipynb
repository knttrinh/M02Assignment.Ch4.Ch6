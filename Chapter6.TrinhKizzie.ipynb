{
 "cells": [
  {
   "cell_type": "markdown",
   "id": "42701e7a-3d43-4bd0-9aa0-739e9a152af9",
   "metadata": {},
   "source": [
    " # Kizzie Trinh #\n",
    " # SDEV 220 #\n",
    " # Chapter 6 Exercises #"
   ]
  },
  {
   "cell_type": "markdown",
   "id": "884417e8-69aa-4967-a68c-029d35ffc8af",
   "metadata": {},
   "source": [
    "## Section 6.1 ##\n",
    "## Use a for loop to print the values of the list [3, 2, 1, 0]. ##"
   ]
  },
  {
   "cell_type": "code",
   "execution_count": null,
   "id": "fa5f6aa0-c60e-4dcf-be01-9f3c01288eee",
   "metadata": {},
   "outputs": [],
   "source": [
    "for numbers in list [3, 2, 1, 0]:\n",
    "    print (numbers)"
   ]
  },
  {
   "cell_type": "markdown",
   "id": "145f63a6-76e3-4db1-bb6e-6c5528dae672",
   "metadata": {},
   "source": [
    "## Section 6.2 ##\n",
    "## Assign the value 7 to the variable guess_me, and the value 1 to the variable number. Write a while loop that compares number with guess_me. Print 'too low' if number is less than guess me. If number equals guess_me, print 'found it!' and then exit the loop. If number is greater than guess_me, print 'oops' and then exit the loop. Increment number at the end of the loop.##"
   ]
  },
  {
   "cell_type": "code",
   "execution_count": null,
   "id": "6d220ddc-769c-439b-aa9d-9095f80f3a91",
   "metadata": {},
   "outputs": [],
   "source": [
    "guess_me = 7\n",
    "number = 1"
   ]
  },
  {
   "cell_type": "code",
   "execution_count": null,
   "id": "86690b0b-4c71-4a86-ab0b-6d670398d072",
   "metadata": {},
   "outputs": [],
   "source": [
    "while number != guess_me:\n",
    "    if number > guess_me:\n",
    "        print (\"Oops\")\n",
    "    elif number == guess_me:\n",
    "        pring (\"Found it!\")\n",
    "        break\n",
    "    else:\n",
    "        print (\"Too Low\")\n",
    "        number += 1"
   ]
  },
  {
   "cell_type": "markdown",
   "id": "b7e35f10-d035-4456-8648-5ee70ed74353",
   "metadata": {},
   "source": [
    "## Section 6.3 ##\n",
    "## Assign the value 5 to the variable guess_me. Use a for loop to iterate a variable called number over range(10). If number is less than guess_me, print 'too low'. If it equals guess_me, print found it! and then break out of the for loop. If number is greater than guess_me, print 'oops' and then exit the loop. ##"
   ]
  },
  {
   "cell_type": "code",
   "execution_count": null,
   "id": "240c0025-c612-44f6-9578-ccbd36a8422a",
   "metadata": {},
   "outputs": [],
   "source": [
    "guess_me = 5\n",
    "number = 1"
   ]
  },
  {
   "cell_type": "code",
   "execution_count": null,
   "id": "af8441b0-fa23-4ebe-a31d-0fa7116c297e",
   "metadata": {},
   "outputs": [],
   "source": [
    "for number in range (0,10):\n",
    "    if number < guess_me:\n",
    "        print (\"Too Low\")\n",
    "    elif number == guess_me:\n",
    "        print (\"Found It!\")\n",
    "        break\n",
    "    else:\n",
    "        print (\"Oops\")"
   ]
  }
 ],
 "metadata": {
  "kernelspec": {
   "display_name": "Python 3 (ipykernel)",
   "language": "python",
   "name": "python3"
  },
  "language_info": {
   "codemirror_mode": {
    "name": "ipython",
    "version": 3
   },
   "file_extension": ".py",
   "mimetype": "text/x-python",
   "name": "python",
   "nbconvert_exporter": "python",
   "pygments_lexer": "ipython3",
   "version": "3.11.7"
  }
 },
 "nbformat": 4,
 "nbformat_minor": 5
}
