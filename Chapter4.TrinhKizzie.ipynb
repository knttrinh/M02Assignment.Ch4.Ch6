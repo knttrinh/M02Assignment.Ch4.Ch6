{
 "cells": [
  {
   "cell_type": "markdown",
   "id": "13d3e52c-0d55-47be-9ceb-129106d04ccb",
   "metadata": {},
   "source": [
    " # Kizzie Trinh #\n",
    " # SDEV 220 #\n",
    " # Chapter 4 Exercises #"
   ]
  },
  {
   "cell_type": "markdown",
   "id": "a82d1508-58bb-447f-8b4a-8299854f4c4a",
   "metadata": {},
   "source": [
    "### Section 4.1 ###\n",
    "### Choose a number between 1 and 10 and assign it to the variable secret. Then, select another number between 1 and 10 and assign it to the variable guess. Next, write the conditional tests (if, else, and elif) to print the string 'too low' if guess is less than secret, 'too high' if greater than secret, and 'just right' if equal to secret. ###"
   ]
  },
  {
   "cell_type": "code",
   "execution_count": 7,
   "id": "cdd7160e-a4f1-41c2-b668-4c401779aebd",
   "metadata": {},
   "outputs": [],
   "source": [
    "secret_variable = 6\n",
    "guess_variable = 3"
   ]
  },
  {
   "cell_type": "code",
   "execution_count": 8,
   "id": "19ff934a-6569-4f6d-8d16-098640317d89",
   "metadata": {},
   "outputs": [
    {
     "name": "stdout",
     "output_type": "stream",
     "text": [
      "Too Low\n"
     ]
    }
   ],
   "source": [
    "if guess_variable > secret_variable:\n",
    "    print (\"Too High\")\n",
    "elif guess_variable == secret_variable:\n",
    "    print (\"Just Right\")\n",
    "else:\n",
    "    print (\"Too Low\")"
   ]
  },
  {
   "cell_type": "markdown",
   "id": "54be3448-9957-4054-a4b0-84e0b320ab87",
   "metadata": {},
   "source": [
    "# Section 4.2 #\n",
    "# Assign True or False to the variables small and green. Write some if/else statements to print which of these matches those choices: cherry, pea, watermelon, pumpkin. #"
   ]
  },
  {
   "cell_type": "code",
   "execution_count": 16,
   "id": "368b89bc-14ee-4338-942a-0d48e3186b77",
   "metadata": {},
   "outputs": [],
   "source": [
    "fruit_veggie = [\"\"]\n",
    "small = True\n",
    "green = True\n"
   ]
  },
  {
   "cell_type": "code",
   "execution_count": 17,
   "id": "d2cc3385-3774-4c17-8b1b-6ffac7678077",
   "metadata": {},
   "outputs": [
    {
     "name": "stdout",
     "output_type": "stream",
     "text": [
      "Pea\n"
     ]
    }
   ],
   "source": [
    "if fruit_veggie: \n",
    "    if small or green:\n",
    "        print (\"Pea\")\n",
    "    else:\n",
    "        print (\"Cherry\")\n",
    "else:\n",
    "    if small != green:\n",
    "        print (\"Pumpkin\")\n",
    "    else:\n",
    "        print (\"Watermelon\")"
   ]
  }
 ],
 "metadata": {
  "kernelspec": {
   "display_name": "Python 3 (ipykernel)",
   "language": "python",
   "name": "python3"
  },
  "language_info": {
   "codemirror_mode": {
    "name": "ipython",
    "version": 3
   },
   "file_extension": ".py",
   "mimetype": "text/x-python",
   "name": "python",
   "nbconvert_exporter": "python",
   "pygments_lexer": "ipython3",
   "version": "3.11.7"
  }
 },
 "nbformat": 4,
 "nbformat_minor": 5
}
